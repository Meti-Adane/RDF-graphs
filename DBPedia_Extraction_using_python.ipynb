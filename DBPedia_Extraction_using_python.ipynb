{
  "nbformat": 4,
  "nbformat_minor": 0,
  "metadata": {
    "colab": {
      "provenance": [],
      "authorship_tag": "ABX9TyO8LG7f96SN7XmegRn5ahjO",
      "include_colab_link": true
    },
    "kernelspec": {
      "name": "python3",
      "display_name": "Python 3"
    },
    "language_info": {
      "name": "python"
    }
  },
  "cells": [
    {
      "cell_type": "markdown",
      "metadata": {
        "id": "view-in-github",
        "colab_type": "text"
      },
      "source": [
        "<a href=\"https://colab.research.google.com/github/Meti-Adane/RDF-graphs/blob/main/DBPedia_Extraction_using_python.ipynb\" target=\"_parent\"><img src=\"https://colab.research.google.com/assets/colab-badge.svg\" alt=\"Open In Colab\"/></a>"
      ]
    },
    {
      "cell_type": "code",
      "execution_count": null,
      "metadata": {
        "id": "yDLFP7SW3LYK"
      },
      "outputs": [],
      "source": [
        "pip install rdflib\n"
      ]
    },
    {
      "cell_type": "code",
      "source": [
        "import rdflib\n",
        "from rdflib import RDF, RDFS, FOAF, Literal, Namespace"
      ],
      "metadata": {
        "id": "P_9NeHyF3RQr"
      },
      "execution_count": null,
      "outputs": []
    },
    {
      "cell_type": "code",
      "source": [
        "graph = rdflib.Graph()"
      ],
      "metadata": {
        "id": "N_njT9VP3T3h"
      },
      "execution_count": null,
      "outputs": []
    },
    {
      "cell_type": "code",
      "source": [
        "uri = rdflib.URIRef(\"http://dbpedia.org/resource/Cristiano_Ronaldo\")"
      ],
      "metadata": {
        "id": "LyUAwaIu5ZLX"
      },
      "execution_count": null,
      "outputs": []
    },
    {
      "cell_type": "code",
      "source": [
        "result = graph.parse(uri)\n",
        "print(type (result))"
      ],
      "metadata": {
        "id": "EGp0LQcT3l-8"
      },
      "execution_count": null,
      "outputs": []
    },
    {
      "cell_type": "code",
      "source": [
        "for s, p, o in result:\n",
        "  print(s, p, o, sep='\\n', end='\\n\\n\\n')\n"
      ],
      "metadata": {
        "id": "cGVtdqX57nWy"
      },
      "execution_count": null,
      "outputs": []
    },
    {
      "cell_type": "code",
      "source": [
        "for person in result.subjects(RDF.type, FOAF.Person):\n",
        "  for entity in result.objects(person, RDFS.comment):\n",
        "    if entity.language == \"en\":\n",
        "      print(entity)"
      ],
      "metadata": {
        "id": "AB3wkk16JH7x"
      },
      "execution_count": null,
      "outputs": []
    },
    {
      "cell_type": "code",
      "source": [
        "DBO = rdflib.Namespace('http://dbpedia.org/ontology/')\n",
        "for person in result.subjects(RDF.type, FOAF.Person):\n",
        "  for ent in result.objects(person, DBO['abstract']):\n",
        "    if ent.language == 'en':\n",
        "      print(ent)\n",
        "\n",
        "  print(person)"
      ],
      "metadata": {
        "id": "PKdozlmKB_gL"
      },
      "execution_count": null,
      "outputs": []
    }
  ]
}