{
  "nbformat": 4,
  "nbformat_minor": 0,
  "metadata": {
    "colab": {
      "provenance": [],
      "authorship_tag": "ABX9TyORR+Vs7nsVvRdT1V0F2g1V",
      "include_colab_link": true
    },
    "kernelspec": {
      "name": "python3",
      "display_name": "Python 3"
    },
    "language_info": {
      "name": "python"
    }
  },
  "cells": [
    {
      "cell_type": "markdown",
      "metadata": {
        "id": "view-in-github",
        "colab_type": "text"
      },
      "source": [
        "<a href=\"https://colab.research.google.com/github/Meti-Adane/RDF-graphs/blob/main/DBPedia_Extraction_using_python.ipynb\" target=\"_parent\"><img src=\"https://colab.research.google.com/assets/colab-badge.svg\" alt=\"Open In Colab\"/></a>"
      ]
    },
    {
      "cell_type": "code",
      "execution_count": null,
      "metadata": {
        "id": "yDLFP7SW3LYK"
      },
      "outputs": [],
      "source": [
        "pip install rdflib\n"
      ]
    },
    {
      "cell_type": "code",
      "source": [
        "import rdflib\n",
        "from rdflib import RDF, RDFS, FOAF, Literal, Namespace"
      ],
      "metadata": {
        "id": "P_9NeHyF3RQr"
      },
      "execution_count": 42,
      "outputs": []
    },
    {
      "cell_type": "code",
      "source": [
        "graph = rdflib.Graph()"
      ],
      "metadata": {
        "id": "N_njT9VP3T3h"
      },
      "execution_count": 30,
      "outputs": []
    },
    {
      "cell_type": "code",
      "source": [
        "uri = rdflib.URIRef(\"http://dbpedia.org/resource/Cristiano_Ronaldo\")"
      ],
      "metadata": {
        "id": "LyUAwaIu5ZLX"
      },
      "execution_count": 31,
      "outputs": []
    },
    {
      "cell_type": "code",
      "source": [
        "result = graph.parse(uri)\n",
        "print(type (result))"
      ],
      "metadata": {
        "id": "EGp0LQcT3l-8"
      },
      "execution_count": 32,
      "outputs": []
    },
    {
      "cell_type": "code",
      "source": [
        "for s, p, o in result:\n",
        "  print(s, p, o, sep='\\n', end='\\n\\n\\n')\n",
        ""
      ],
      "metadata": {
        "id": "cGVtdqX57nWy"
      },
      "execution_count": null,
      "outputs": []
    },
    {
      "cell_type": "code",
      "source": [
        "for person in result.subjects(RDF.type, FOAF.Person):\n",
        "  for entity in result.objects(person, RDFS.comment):\n",
        "    if entity.language == \"en\":\n",
        "      print(entity)"
      ],
      "metadata": {
        "id": "AB3wkk16JH7x"
      },
      "execution_count": null,
      "outputs": []
    },
    {
      "cell_type": "code",
      "source": [
        "DBO = rdflib.Namespace('http://dbpedia.org/ontology/')\n",
        "for person in result.subjects(RDF.type, FOAF.Person):\n",
        "  for ent in result.objects(person, DBO['abstract']):\n",
        "    if ent.language == 'en':\n",
        "      print(ent)\n",
        "\n",
        "  print(person)"
      ],
      "metadata": {
        "id": "PKdozlmKB_gL"
      },
      "execution_count": null,
      "outputs": []
    },
    {
      "cell_type": "code",
      "source": [
        "!git remote add rem https://github.com/Meti-Adane/RDF-graphs.git\n"
      ],
      "metadata": {
        "id": "HiLk9vHbSouN"
      },
      "execution_count": null,
      "outputs": []
    },
    {
      "cell_type": "code",
      "source": [
        "!git config --global user.email \"metiade7@gmail.com\"\n",
        "!git config --global user.name \"Meti A. Bayissa\"\n"
      ],
      "metadata": {
        "id": "tIiUEyxwTZsv"
      },
      "execution_count": 83,
      "outputs": []
    },
    {
      "cell_type": "code",
      "source": [
        "!git add .\n",
        "!git commit -m 'Extraction using Python'\n",
        "!git push rem main"
      ],
      "metadata": {
        "colab": {
          "base_uri": "https://localhost:8080/"
        },
        "id": "rAxOID7VTSrh",
        "outputId": "4865138b-2c0a-4a51-dbe0-e7e4df044328"
      },
      "execution_count": 84,
      "outputs": [
        {
          "output_type": "stream",
          "name": "stdout",
          "text": [
            "[master (root-commit) 7a674b7] Extraction using Python\n",
            " 20 files changed, 50872 insertions(+)\n",
            " create mode 100644 .config/.last_opt_in_prompt.yaml\n",
            " create mode 100644 .config/.last_survey_prompt.yaml\n",
            " create mode 100644 .config/.last_update_check.json\n",
            " create mode 100644 .config/active_config\n",
            " create mode 100644 .config/config_sentinel\n",
            " create mode 100644 .config/configurations/config_default\n",
            " create mode 100644 .config/default_configs.db\n",
            " create mode 100644 .config/gce\n",
            " create mode 100644 .config/logs/2024.03.05/14.30.42.296067.log\n",
            " create mode 100644 .config/logs/2024.03.05/14.31.07.764898.log\n",
            " create mode 100644 .config/logs/2024.03.05/14.31.17.845472.log\n",
            " create mode 100644 .config/logs/2024.03.05/14.31.26.475283.log\n",
            " create mode 100644 .config/logs/2024.03.05/14.31.36.605243.log\n",
            " create mode 100644 .config/logs/2024.03.05/14.31.37.377308.log\n",
            " create mode 100755 sample_data/README.md\n",
            " create mode 100755 sample_data/anscombe.json\n",
            " create mode 100644 sample_data/california_housing_test.csv\n",
            " create mode 100644 sample_data/california_housing_train.csv\n",
            " create mode 100644 sample_data/mnist_test.csv\n",
            " create mode 100644 sample_data/mnist_train_small.csv\n",
            "error: src refspec main does not match any\n",
            "\u001b[31merror: failed to push some refs to 'https://github.com/Meti-Adane/RDF-graphs.git'\n",
            "\u001b[m"
          ]
        }
      ]
    }
  ]
}