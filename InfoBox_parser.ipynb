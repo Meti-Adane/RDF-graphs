{
  "nbformat": 4,
  "nbformat_minor": 0,
  "metadata": {
    "colab": {
      "provenance": [],
      "authorship_tag": "ABX9TyONodjJmkCCy7IXEsNOY/j+",
      "include_colab_link": true
    },
    "kernelspec": {
      "name": "python3",
      "display_name": "Python 3"
    },
    "language_info": {
      "name": "python"
    },
    "accelerator": "TPU"
  },
  "cells": [
    {
      "cell_type": "markdown",
      "metadata": {
        "id": "view-in-github",
        "colab_type": "text"
      },
      "source": [
        "<a href=\"https://colab.research.google.com/github/Meti-Adane/RDF-graphs/blob/main/InfoBox_parser.ipynb\" target=\"_parent\"><img src=\"https://colab.research.google.com/assets/colab-badge.svg\" alt=\"Open In Colab\"/></a>"
      ]
    },
    {
      "cell_type": "markdown",
      "source": [
        "# This note book will be used to analyze Amahric wikidumps"
      ],
      "metadata": {
        "id": "4cfbUhJRO2Dk"
      }
    },
    {
      "cell_type": "code",
      "execution_count": 1,
      "metadata": {
        "id": "7w_QKvcrUhtl"
      },
      "outputs": [],
      "source": [
        "import xml.etree.ElementTree as ET\n",
        "import re\n",
        "from google.colab import drive"
      ]
    },
    {
      "cell_type": "code",
      "source": [
        "drive.mount('/content/gdrive')"
      ],
      "metadata": {
        "colab": {
          "base_uri": "https://localhost:8080/"
        },
        "id": "HDLH3qfxUwBn",
        "outputId": "8ab8e5f2-5f01-450a-f941-6d6c6fe83dcc"
      },
      "execution_count": 2,
      "outputs": [
        {
          "output_type": "stream",
          "name": "stdout",
          "text": [
            "Mounted at /content/gdrive\n"
          ]
        }
      ]
    },
    {
      "cell_type": "markdown",
      "source": [],
      "metadata": {
        "id": "cHcEhMJPPAlp"
      }
    },
    {
      "cell_type": "code",
      "source": [
        "# Get the percentage of amharic articles in wikipedia with valid infoboxes\n",
        "# Scan for part of the article that contains an infobox format and\n",
        "# atleast one of the properties have values.\n",
        "\n",
        "def parseInfoBox(inputWikiDump, pattern):\n",
        "    tree = ET.parse(inputWikiDump)\n",
        "    root = tree.getroot()\n",
        "    prefixTag = \"{http://www.mediawiki.org/xml/export-0.10/}\"\n",
        "    pageContents = root.findall(f'./{prefixTag}page')\n",
        "\n",
        "    count = 0\n",
        "    for page in pageContents:\n",
        "        textContent = page.findall(f'./{prefixTag}revision/{prefixTag}text')\n",
        "        count += 1 if any([re.search(pattern, str(t.text)) for t in textContent]) else 0\n",
        "\n",
        "    return  ((count / len(pageContents)) * 100)\n"
      ],
      "metadata": {
        "id": "Zje-Su0HU44d"
      },
      "execution_count": 9,
      "outputs": []
    },
    {
      "cell_type": "markdown",
      "source": [],
      "metadata": {
        "id": "Icdrubc1QWzm"
      }
    },
    {
      "cell_type": "code",
      "source": [
        "validInfoBoxPattern = r'\\{\\{[^{}]*\\|.*?(\\b\\w+\\s*=\\s*(?:\"[^\"]*\"|\\'[^\\']*\\'|\\w+)\\s*(?:\\||\\}\\}))'\n",
        "path = \"/content/gdrive/MyDrive/dbpedia/amwiki-20240301-pages-articles-multistream.xml\"\n",
        "print(f'{parseInfoBox(path, validInfoBoxPattern):.2f} %')"
      ],
      "metadata": {
        "colab": {
          "base_uri": "https://localhost:8080/"
        },
        "id": "s3HnddNvPP7x",
        "outputId": "13b81ded-5598-4943-bf4a-efc4ee8b0930"
      },
      "execution_count": 10,
      "outputs": [
        {
          "output_type": "stream",
          "name": "stdout",
          "text": [
            "8.32 %\n"
          ]
        }
      ]
    }
  ]
}